{
 "cells": [
  {
   "cell_type": "markdown",
   "metadata": {
    "collapsed": true,
    "deletable": true,
    "editable": true
   },
   "source": [
    "# Image Classification\n",
    "In this project, you'll classify images from the [CIFAR-10 dataset](https://www.cs.toronto.edu/~kriz/cifar.html).  The dataset consists of airplanes, dogs, cats, and other objects. You'll preprocess the images, then train a convolutional neural network on all the samples. The images need to be normalized and the labels need to be one-hot encoded.  You'll get to apply what you learned and build a convolutional, max pooling, dropout, and fully connected layers.  At the end, you'll get to see your neural network's predictions on the sample images.\n",
    "## Get the Data\n",
    "Run the following cell to download the [CIFAR-10 dataset for python](https://www.cs.toronto.edu/~kriz/cifar-10-python.tar.gz)."
   ]
  },
  {
   "cell_type": "code",
   "execution_count": 1,
   "metadata": {
    "collapsed": false,
    "deletable": true,
    "editable": true
   },
   "outputs": [
    {
     "name": "stdout",
     "output_type": "stream",
     "text": [
      "All files found!\n"
     ]
    }
   ],
   "source": [
    "\"\"\"\n",
    "DON'T MODIFY ANYTHING IN THIS CELL THAT IS BELOW THIS LINE\n",
    "\"\"\"\n",
    "from urllib.request import urlretrieve\n",
    "from os.path import isfile, isdir\n",
    "from tqdm import tqdm\n",
    "import problem_unittests as tests\n",
    "import tarfile\n",
    "\n",
    "cifar10_dataset_folder_path = 'cifar-10-batches-py'\n",
    "\n",
    "# Use Floyd's cifar-10 dataset if present\n",
    "floyd_cifar10_location = '/input/cifar-10/python.tar.gz'\n",
    "if isfile(floyd_cifar10_location):\n",
    "    tar_gz_path = floyd_cifar10_location\n",
    "else:\n",
    "    tar_gz_path = 'cifar-10-python.tar.gz'\n",
    "\n",
    "class DLProgress(tqdm):\n",
    "    last_block = 0\n",
    "\n",
    "    def hook(self, block_num=1, block_size=1, total_size=None):\n",
    "        self.total = total_size\n",
    "        self.update((block_num - self.last_block) * block_size)\n",
    "        self.last_block = block_num\n",
    "\n",
    "if not isfile(tar_gz_path):\n",
    "    with DLProgress(unit='B', unit_scale=True, miniters=1, desc='CIFAR-10 Dataset') as pbar:\n",
    "        urlretrieve(\n",
    "            'https://www.cs.toronto.edu/~kriz/cifar-10-python.tar.gz',\n",
    "            tar_gz_path,\n",
    "            pbar.hook)\n",
    "\n",
    "if not isdir(cifar10_dataset_folder_path):\n",
    "    with tarfile.open(tar_gz_path) as tar:\n",
    "        tar.extractall()\n",
    "        tar.close()\n",
    "\n",
    "\n",
    "tests.test_folder_path(cifar10_dataset_folder_path)"
   ]
  },
  {
   "cell_type": "markdown",
   "metadata": {
    "deletable": true,
    "editable": true
   },
   "source": [
    "## Explore the Data\n",
    "The dataset is broken into batches to prevent your machine from running out of memory.  The CIFAR-10 dataset consists of 5 batches, named `data_batch_1`, `data_batch_2`, etc.. Each batch contains the labels and images that are one of the following:\n",
    "* airplane\n",
    "* automobile\n",
    "* bird\n",
    "* cat\n",
    "* deer\n",
    "* dog\n",
    "* frog\n",
    "* horse\n",
    "* ship\n",
    "* truck\n",
    "\n",
    "Understanding a dataset is part of making predictions on the data.  Play around with the code cell below by changing the `batch_id` and `sample_id`. The `batch_id` is the id for a batch (1-5). The `sample_id` is the id for a image and label pair in the batch.\n",
    "\n",
    "Ask yourself \"What are all possible labels?\", \"What is the range of values for the image data?\", \"Are the labels in order or random?\".  Answers to questions like these will help you preprocess the data and end up with better predictions."
   ]
  },
  {
   "cell_type": "code",
   "execution_count": 2,
   "metadata": {
    "collapsed": false,
    "deletable": true,
    "editable": true
   },
   "outputs": [
    {
     "name": "stdout",
     "output_type": "stream",
     "text": [
      "\n",
      "Stats of batch 1:\n",
      "Samples: 10000\n",
      "Label Counts: {0: 1005, 1: 974, 2: 1032, 3: 1016, 4: 999, 5: 937, 6: 1030, 7: 1001, 8: 1025, 9: 981}\n",
      "First 20 Labels: [6, 9, 9, 4, 1, 1, 2, 7, 8, 3, 4, 7, 7, 2, 9, 9, 9, 3, 2, 6]\n",
      "\n",
      "Example of Image 5:\n",
      "Image - Min Value: 0 Max Value: 252\n",
      "Image - Shape: (32, 32, 3)\n",
      "Label - Label Id: 1 Name: automobile\n"
     ]
    },
    {
     "data": {
      "image/png": "[encoded data removed]",
      "text/plain": [
       "<matplotlib.figure.Figure at 0x7f8b106d5278>"
      ]
     },
     "metadata": {
      "image/png": {
       "height": 250,
       "width": 253
      }
     },
     "output_type": "display_data"
    }
   ],
   "source": [
    "%matplotlib inline\n",
    "%config InlineBackend.figure_format = 'retina'\n",
    "\n",
    "import helper\n",
    "import numpy as np\n",
    "\n",
    "# Explore the dataset\n",
    "batch_id = 1\n",
    "sample_id = 5\n",
    "helper.display_stats(cifar10_dataset_folder_path, batch_id, sample_id)"
   ]
  },
  {
   "cell_type": "markdown",
   "metadata": {
    "deletable": true,
    "editable": true
   },
   "source": [
    "## Implement Preprocess Functions\n",
    "### Normalize\n",
    "In the cell below, implement the `normalize` function to take in image data, `x`, and return it as a normalized Numpy array. The values should be in the range of 0 to 1, inclusive.  The return object should be the same shape as `x`."
   ]
  },
  {
   "cell_type": "code",
   "execution_count": 3,
   "metadata": {
    "collapsed": false,
    "deletable": true,
    "editable": true
   },
   "outputs": [
    {
     "name": "stdout",
     "output_type": "stream",
     "text": [
      "Tests Passed\n"
     ]
    }
   ],
   "source": [
    "def normalize(x):\n",
    "    \"\"\"\n",
    "    Normalize a list of sample image data in the range of 0 to 1\n",
    "    : x: List of image data.  The image shape is (32, 32, 3)\n",
    "    : return: Numpy array of normalize data\n",
    "    \"\"\"\n",
    "    # TODO: Implement Function\n",
    "    x = np.array(x)\n",
    "    x = x.astype('float32')\n",
    "    x /= np.max(255, axis = 0)\n",
    "    return x\n",
    "\n",
    "\"\"\"\n",
    "DON'T MODIFY ANYTHING IN THIS CELL THAT IS BELOW THIS LINE\n",
    "\"\"\"\n",
    "tests.test_normalize(normalize)"
   ]
  },
  {
   "cell_type": "markdown",
   "metadata": {
    "deletable": true,
    "editable": true
   },
   "source": [
    "### One-hot encode\n",
    "Just like the previous code cell, you'll be implementing a function for preprocessing.  This time, you'll implement the `one_hot_encode` function. The input, `x`, are a list of labels.  Implement the function to return the list of labels as One-Hot encoded Numpy array.  The possible values for labels are 0 to 9. The one-hot encoding function should return the same encoding for each value between each call to `one_hot_encode`.  Make sure to save the map of encodings outside the function.\n",
    "\n",
    "Hint: Don't reinvent the wheel."
   ]
  },
  {
   "cell_type": "code",
   "execution_count": 4,
   "metadata": {
    "collapsed": false,
    "deletable": true,
    "editable": true
   },
   "outputs": [
    {
     "name": "stdout",
     "output_type": "stream",
     "text": [
      "Tests Passed\n"
     ]
    }
   ],
   "source": [
    "def one_hot_encode(x):\n",
    "    \"\"\"\n",
    "    One hot encode a list of sample labels. Return a one-hot encoded vector for each label.\n",
    "    : x: List of sample Labels\n",
    "    : return: Numpy array of one-hot encoded labels\n",
    "    \"\"\"\n",
    "    # TODO: Implement Function\n",
    "    x = np.array(x)\n",
    "    one_hot_enc = np.zeros((x.shape[0], 10))\n",
    "    one_hot_enc[np.arange(x.shape[0]), x] = 1\n",
    "    return one_hot_enc\n",
    "\n",
    "\"\"\"\n",
    "DON'T MODIFY ANYTHING IN THIS CELL THAT IS BELOW THIS LINE\n",
    "\"\"\"\n",
    "tests.test_one_hot_encode(one_hot_encode)"
   ]
  },
  {
   "cell_type": "markdown",
   "metadata": {
    "deletable": true,
    "editable": true
   },
   "source": [
    "### Randomize Data\n",
    "As you saw from exploring the data above, the order of the samples are randomized.  It doesn't hurt to randomize it again, but you don't need to for this dataset."
   ]
  },
  {
   "cell_type": "markdown",
   "metadata": {
    "deletable": true,
    "editable": true
   },
   "source": [
    "## Preprocess all the data and save it\n",
    "Running the code cell below will preprocess all the CIFAR-10 data and save it to file. The code below also uses 10% of the training data for validation."
   ]
  },
  {
   "cell_type": "code",
   "execution_count": 5,
   "metadata": {
    "collapsed": true,
    "deletable": true,
    "editable": true
   },
   "outputs": [],
   "source": [
    "\"\"\"\n",
    "DON'T MODIFY ANYTHING IN THIS CELL\n",
    "\"\"\"\n",
    "# Preprocess Training, Validation, and Testing Data\n",
    "helper.preprocess_and_save_data(cifar10_dataset_folder_path, normalize, one_hot_encode)"
   ]
  },
  {
   "cell_type": "markdown",
   "metadata": {
    "deletable": true,
    "editable": true
   },
   "source": [
    "# Check Point\n",
    "This is your first checkpoint.  If you ever decide to come back to this notebook or have to restart the notebook, you can start from here.  The preprocessed data has been saved to disk."
   ]
  },
  {
   "cell_type": "code",
   "execution_count": 6,
   "metadata": {
    "collapsed": true,
    "deletable": true,
    "editable": true
   },
   "outputs": [],
   "source": [
    "\"\"\"\n",
    "DON'T MODIFY ANYTHING IN THIS CELL\n",
    "\"\"\"\n",
    "import pickle\n",
    "import problem_unittests as tests\n",
    "import helper\n",
    "\n",
    "# Load the Preprocessed Validation data\n",
    "valid_features, valid_labels = pickle.load(open('preprocess_validation.p', mode='rb'))"
   ]
  },
  {
   "cell_type": "markdown",
   "metadata": {
    "deletable": true,
    "editable": true
   },
   "source": [
    "## Build the network\n",
    "For the neural network, you'll build each layer into a function.  Most of the code you've seen has been outside of functions. To test your code more thoroughly, we require that you put each layer in a function.  This allows us to give you better feedback and test for simple mistakes using our unittests before you submit your project.\n",
    "\n",
    ">**Note:** If you're finding it hard to dedicate enough time for this course each week, we've provided a small shortcut to this part of the project. In the next couple of problems, you'll have the option to use classes from the [TensorFlow Layers](https://www.tensorflow.org/api_docs/python/tf/layers) or [TensorFlow Layers (contrib)](https://www.tensorflow.org/api_guides/python/contrib.layers) packages to build each layer, except the layers you build in the \"Convolutional and Max Pooling Layer\" section.  TF Layers is similar to Keras's and TFLearn's abstraction to layers, so it's easy to pickup.\n",
    "\n",
    ">However, if you would like to get the most out of this course, try to solve all the problems _without_ using anything from the TF Layers packages. You **can** still use classes from other packages that happen to have the same name as ones you find in TF Layers! For example, instead of using the TF Layers version of the `conv2d` class, [tf.layers.conv2d](https://www.tensorflow.org/api_docs/python/tf/layers/conv2d), you would want to use the TF Neural Network version of `conv2d`, [tf.nn.conv2d](https://www.tensorflow.org/api_docs/python/tf/nn/conv2d). \n",
    "\n",
    "Let's begin!\n",
    "\n",
    "### Input\n",
    "The neural network needs to read the image data, one-hot encoded labels, and dropout keep probability. Implement the following functions\n",
    "* Implement `neural_net_image_input`\n",
    " * Return a [TF Placeholder](https://www.tensorflow.org/api_docs/python/tf/placeholder)\n",
    " * Set the shape using `image_shape` with batch size set to `None`.\n",
    " * Name the TensorFlow placeholder \"x\" using the TensorFlow `name` parameter in the [TF Placeholder](https://www.tensorflow.org/api_docs/python/tf/placeholder).\n",
    "* Implement `neural_net_label_input`\n",
    " * Return a [TF Placeholder](https://www.tensorflow.org/api_docs/python/tf/placeholder)\n",
    " * Set the shape using `n_classes` with batch size set to `None`.\n",
    " * Name the TensorFlow placeholder \"y\" using the TensorFlow `name` parameter in the [TF Placeholder](https://www.tensorflow.org/api_docs/python/tf/placeholder).\n",
    "* Implement `neural_net_keep_prob_input`\n",
    " * Return a [TF Placeholder](https://www.tensorflow.org/api_docs/python/tf/placeholder) for dropout keep probability.\n",
    " * Name the TensorFlow placeholder \"keep_prob\" using the TensorFlow `name` parameter in the [TF Placeholder](https://www.tensorflow.org/api_docs/python/tf/placeholder).\n",
    "\n",
    "These names will be used at the end of the project to load your saved model.\n",
    "\n",
    "Note: `None` for shapes in TensorFlow allow for a dynamic size."
   ]
  },
  {
   "cell_type": "code",
   "execution_count": 7,
   "metadata": {
    "collapsed": false,
    "deletable": true,
    "editable": true
   },
   "outputs": [
    {
     "name": "stdout",
     "output_type": "stream",
     "text": [
      "Image Input Tests Passed.\n",
      "Label Input Tests Passed.\n",
      "Keep Prob Tests Passed.\n"
     ]
    }
   ],
   "source": [
    "import tensorflow as tf\n",
    "\n",
    "def neural_net_image_input(image_shape):\n",
    "    \"\"\"\n",
    "    Return a Tensor for a batch of image input\n",
    "    : image_shape: Shape of the images\n",
    "    : return: Tensor for image input.\n",
    "    \"\"\"\n",
    "    # TODO: Implement Function\n",
    "    return tf.placeholder(tf.float32, shape=[None, *image_shape], name=\"x\")\n",
    "\n",
    "\n",
    "def neural_net_label_input(n_classes):\n",
    "    \"\"\"\n",
    "    Return a Tensor for a batch of label input\n",
    "    : n_classes: Number of classes\n",
    "    : return: Tensor for label input.\n",
    "    \"\"\"\n",
    "    # TODO: Implement Function\n",
    "    return tf.placeholder(tf.float32, shape=[None, n_classes], name=\"y\")\n",
    "\n",
    "\n",
    "def neural_net_keep_prob_input():\n",
    "    \"\"\"\n",
    "    Return a Tensor for keep probability\n",
    "    : return: Tensor for keep probability.\n",
    "    \"\"\"\n",
    "    # TODO: Implement Function\n",
    "    return tf.placeholder(tf.float32, name=\"keep_prob\")\n",
    "\n",
    "\n",
    "\"\"\"\n",
    "DON'T MODIFY ANYTHING IN THIS CELL THAT IS BELOW THIS LINE\n",
    "\"\"\"\n",
    "tf.reset_default_graph()\n",
    "tests.test_nn_image_inputs(neural_net_image_input)\n",
    "tests.test_nn_label_inputs(neural_net_label_input)\n",
    "tests.test_nn_keep_prob_inputs(neural_net_keep_prob_input)"
   ]
  },
  {
   "cell_type": "markdown",
   "metadata": {
    "deletable": true,
    "editable": true
   },
   "source": [
    "### Convolution and Max Pooling Layer\n",
    "Convolution layers have a lot of success with images. For this code cell, you should implement the function `conv2d_maxpool` to apply convolution then max pooling:\n",
    "* Create the weight and bias using `conv_ksize`, `conv_num_outputs` and the shape of `x_tensor`.\n",
    "* Apply a convolution to `x_tensor` using weight and `conv_strides`.\n",
    " * We recommend you use same padding, but you're welcome to use any padding.\n",
    "* Add bias\n",
    "* Add a nonlinear activation to the convolution.\n",
    "* Apply Max Pooling using `pool_ksize` and `pool_strides`.\n",
    " * We recommend you use same padding, but you're welcome to use any padding.\n",
    "\n",
    "**Note:** You **can't** use [TensorFlow Layers](https://www.tensorflow.org/api_docs/python/tf/layers) or [TensorFlow Layers (contrib)](https://www.tensorflow.org/api_guides/python/contrib.layers) for **this** layer, but you can still use TensorFlow's [Neural Network](https://www.tensorflow.org/api_docs/python/tf/nn) package. You may still use the shortcut option for all the **other** layers."
   ]
  },
  {
   "cell_type": "code",
   "execution_count": 8,
   "metadata": {
    "collapsed": false,
    "deletable": true,
    "editable": true
   },
   "outputs": [
    {
     "name": "stdout",
     "output_type": "stream",
     "text": [
      "Tests Passed\n"
     ]
    }
   ],
   "source": [
    "def conv2d_maxpool(x_tensor, conv_num_outputs, conv_ksize, conv_strides, pool_ksize, pool_strides):\n",
    "    \"\"\"\n",
    "    Apply convolution then max pooling to x_tensor\n",
    "    :param x_tensor: TensorFlow Tensor\n",
    "    :param conv_num_outputs: Number of outputs for the convolutional layer\n",
    "    :param conv_ksize: kernal size 2-D Tuple for the convolutional layer\n",
    "    :param conv_strides: Stride 2-D Tuple for convolution\n",
    "    :param pool_ksize: kernal size 2-D Tuple for pool\n",
    "    :param pool_strides: Stride 2-D Tuple for pool\n",
    "    : return: A tensor that represents convolution and max pooling of x_tensor\n",
    "    \"\"\"\n",
    "    # TODO: Implement Function\n",
    "    batch_size, x_height, x_width, x_depth = x_tensor.get_shape().as_list()\n",
    "    weights = tf.Variable(tf.truncated_normal([*conv_ksize, x_depth, conv_num_outputs], stddev=0.01))\n",
    "    bias = tf.Variable(tf.zeros([conv_num_outputs]))\n",
    "        \n",
    "    conv_layer = tf.nn.conv2d(x_tensor, weights, strides = [1, conv_strides[0], conv_strides[1], 1], padding = 'SAME')\n",
    "    conv_layer = tf.nn.bias_add(conv_layer, bias)\n",
    "    conv_layer = tf.nn.relu(conv_layer)\n",
    "    conv_layer = tf.nn.max_pool(conv_layer, ksize = [1, pool_ksize[0], pool_ksize[1], 1], strides = [1, pool_strides[0], pool_strides[1], 1], padding = 'SAME')\n",
    "    return conv_layer\n",
    "\n",
    "\"\"\"\n",
    "DON'T MODIFY ANYTHING IN THIS CELL THAT IS BELOW THIS LINE\n",
    "\"\"\"\n",
    "tests.test_con_pool(conv2d_maxpool)"
   ]
  },
  {
   "cell_type": "markdown",
   "metadata": {
    "deletable": true,
    "editable": true
   },
   "source": [
    "### Flatten Layer\n",
    "Implement the `flatten` function to change the dimension of `x_tensor` from a 4-D tensor to a 2-D tensor.  The output should be the shape (*Batch Size*, *Flattened Image Size*). Shortcut option: you can use classes from the [TensorFlow Layers](https://www.tensorflow.org/api_docs/python/tf/layers) or [TensorFlow Layers (contrib)](https://www.tensorflow.org/api_guides/python/contrib.layers) packages for this layer. For more of a challenge, only use other TensorFlow packages."
   ]
  },
  {
   "cell_type": "code",
   "execution_count": 9,
   "metadata": {
    "collapsed": false,
    "deletable": true,
    "editable": true
   },
   "outputs": [
    {
     "name": "stdout",
     "output_type": "stream",
     "text": [
      "Tests Passed\n"
     ]
    }
   ],
   "source": [
    "def flatten(x_tensor):\n",
    "    \"\"\"\n",
    "    Flatten x_tensor to (Batch Size, Flattened Image Size)\n",
    "    : x_tensor: A tensor of size (Batch Size, ...), where ... are the image dimensions.\n",
    "    : return: A tensor of size (Batch Size, Flattened Image Size).\n",
    "    \"\"\"\n",
    "    # TODO: Implement Function\n",
    "    flat = tf.contrib.layers.flatten(x_tensor)\n",
    "    return flat\n",
    "\n",
    "\"\"\"\n",
    "DON'T MODIFY ANYTHING IN THIS CELL THAT IS BELOW THIS LINE\n",
    "\"\"\"\n",
    "tests.test_flatten(flatten)"
   ]
  },
  {
   "cell_type": "markdown",
   "metadata": {
    "deletable": true,
    "editable": true
   },
   "source": [
    "### Fully-Connected Layer\n",
    "Implement the `fully_conn` function to apply a fully connected layer to `x_tensor` with the shape (*Batch Size*, *num_outputs*). Shortcut option: you can use classes from the [TensorFlow Layers](https://www.tensorflow.org/api_docs/python/tf/layers) or [TensorFlow Layers (contrib)](https://www.tensorflow.org/api_guides/python/contrib.layers) packages for this layer. For more of a challenge, only use other TensorFlow packages."
   ]
  },
  {
   "cell_type": "code",
   "execution_count": 10,
   "metadata": {
    "collapsed": false,
    "deletable": true,
    "editable": true
   },
   "outputs": [
    {
     "name": "stdout",
     "output_type": "stream",
     "text": [
      "Tests Passed\n"
     ]
    }
   ],
   "source": [
    "def fully_conn(x_tensor, num_outputs):\n",
    "    \"\"\"\n",
    "    Apply a fully connected layer to x_tensor using weight and bias\n",
    "    : x_tensor: A 2-D tensor where the first dimension is batch size.\n",
    "    : num_outputs: The number of output that the new tensor should be.\n",
    "    : return: A 2-D tensor where the second dimension is num_outputs.\n",
    "    \"\"\"\n",
    "    # TODO: Implement Function\n",
    "    fc = tf.contrib.layers.fully_connected(x_tensor, num_outputs)\n",
    "    return fc\n",
    "\n",
    "\n",
    "\"\"\"\n",
    "DON'T MODIFY ANYTHING IN THIS CELL THAT IS BELOW THIS LINE\n",
    "\"\"\"\n",
    "tests.test_fully_conn(fully_conn)"
   ]
  },
  {
   "cell_type": "markdown",
   "metadata": {
    "deletable": true,
    "editable": true
   },
   "source": [
    "### Output Layer\n",
    "Implement the `output` function to apply a fully connected layer to `x_tensor` with the shape (*Batch Size*, *num_outputs*). Shortcut option: you can use classes from the [TensorFlow Layers](https://www.tensorflow.org/api_docs/python/tf/layers) or [TensorFlow Layers (contrib)](https://www.tensorflow.org/api_guides/python/contrib.layers) packages for this layer. For more of a challenge, only use other TensorFlow packages.\n",
    "\n",
    "**Note:** Activation, softmax, or cross entropy should **not** be applied to this."
   ]
  },
  {
   "cell_type": "code",
   "execution_count": 11,
   "metadata": {
    "collapsed": false,
    "deletable": true,
    "editable": true
   },
   "outputs": [
    {
     "name": "stdout",
     "output_type": "stream",
     "text": [
      "Tests Passed\n"
     ]
    }
   ],
   "source": [
    "def output(x_tensor, num_outputs):\n",
    "    \"\"\"\n",
    "    Apply a output layer to x_tensor using weight and bias\n",
    "    : x_tensor: A 2-D tensor where the first dimension is batch size.\n",
    "    : num_outputs: The number of output that the new tensor should be.\n",
    "    : return: A 2-D tensor where the second dimension is num_outputs.\n",
    "    \"\"\"\n",
    "    # TODO: Implement Function\n",
    "    out = tf.contrib.layers.fully_connected(x_tensor, num_outputs, activation_fn = None)\n",
    "    return out\n",
    "\n",
    "\"\"\"\n",
    "DON'T MODIFY ANYTHING IN THIS CELL THAT IS BELOW THIS LINE\n",
    "\"\"\"\n",
    "tests.test_output(output)"
   ]
  },
  {
   "cell_type": "markdown",
   "metadata": {
    "deletable": true,
    "editable": true
   },
   "source": [
    "### Create Convolutional Model\n",
    "Implement the function `conv_net` to create a convolutional neural network model. The function takes in a batch of images, `x`, and outputs logits.  Use the layers you created above to create this model:\n",
    "\n",
    "* Apply 1, 2, or 3 Convolution and Max Pool layers\n",
    "* Apply a Flatten Layer\n",
    "* Apply 1, 2, or 3 Fully Connected Layers\n",
    "* Apply an Output Layer\n",
    "* Return the output\n",
    "* Apply [TensorFlow's Dropout](https://www.tensorflow.org/api_docs/python/tf/nn/dropout) to one or more layers in the model using `keep_prob`. "
   ]
  },
  {
   "cell_type": "code",
   "execution_count": 12,
   "metadata": {
    "collapsed": false,
    "deletable": true,
    "editable": true
   },
   "outputs": [
    {
     "name": "stdout",
     "output_type": "stream",
     "text": [
      "Neural Network Built!\n"
     ]
    }
   ],
   "source": [
    "def conv_net(x, keep_prob):\n",
    "    \"\"\"\n",
    "    Create a convolutional neural network model\n",
    "    : x: Placeholder tensor that holds image data.\n",
    "    : keep_prob: Placeholder tensor that hold dropout keep probability.\n",
    "    : return: Tensor that represents logits\n",
    "    \"\"\"\n",
    "    # TODO: Apply 1, 2, or 3 Convolution and Max Pool layers\n",
    "    #    Play around with different number of outputs, kernel size and stride\n",
    "    # Function Definition from Above:\n",
    "    #    conv2d_maxpool(x_tensor, conv_num_outputs, conv_ksize, conv_strides, pool_ksize, pool_strides)\n",
    "    conv_ksize = [3,3]\n",
    "    conv_strides = [1,1]\n",
    "    pool_ksize = [3,3]\n",
    "    pool_strides = [1,1]\n",
    "    \n",
    "    conv_netw = conv2d_maxpool(x, 16, conv_ksize, conv_strides, pool_ksize, pool_strides)\n",
    "    conv_netw = conv2d_maxpool(conv_netw, 32, conv_ksize, conv_strides, pool_ksize, pool_strides)\n",
    "\n",
    "    # TODO: Apply a Flatten Layer\n",
    "    # Function Definition from Above:\n",
    "    #   flatten(x_tensor)\n",
    "    conv_netw = flatten(conv_netw)\n",
    "\n",
    "    # TODO: Apply 1, 2, or 3 Fully Connected Layers\n",
    "    #    Play around with different number of outputs\n",
    "    # Function Definition from Above:\n",
    "    #   fully_conn(x_tensor, num_outputs)\n",
    "    conv_netw = fully_conn(conv_netw, 2048)\n",
    "    conv_netw = tf.nn.dropout(conv_netw, keep_prob)\n",
    "    conv_netw = fully_conn(conv_netw, 1024)\n",
    "    conv_netw = tf.nn.dropout(conv_netw, keep_prob)\n",
    "    \n",
    "    # TODO: Apply an Output Layer\n",
    "    #    Set this to the number of classes\n",
    "    # Function Definition from Above:\n",
    "    #   output(x_tensor, num_outputs)\n",
    "    conv_netw = output(conv_netw, 10)\n",
    "    \n",
    "    # TODO: return output\n",
    "    return conv_netw\n",
    "\n",
    "\"\"\"\n",
    "DON'T MODIFY ANYTHING IN THIS CELL THAT IS BELOW THIS LINE\n",
    "\"\"\"\n",
    "\n",
    "##############################\n",
    "## Build the Neural Network ##\n",
    "##############################\n",
    "\n",
    "# Remove previous weights, bias, inputs, etc..\n",
    "tf.reset_default_graph()\n",
    "\n",
    "# Inputs\n",
    "x = neural_net_image_input((32, 32, 3))\n",
    "y = neural_net_label_input(10)\n",
    "keep_prob = neural_net_keep_prob_input()\n",
    "\n",
    "# Model\n",
    "logits = conv_net(x, keep_prob)\n",
    "\n",
    "# Name logits Tensor, so that is can be loaded from disk after training\n",
    "logits = tf.identity(logits, name='logits')\n",
    "\n",
    "# Loss and Optimizer\n",
    "cost = tf.reduce_mean(tf.nn.softmax_cross_entropy_with_logits(logits=logits, labels=y))\n",
    "optimizer = tf.train.AdamOptimizer().minimize(cost)\n",
    "\n",
    "# Accuracy\n",
    "correct_pred = tf.equal(tf.argmax(logits, 1), tf.argmax(y, 1))\n",
    "accuracy = tf.reduce_mean(tf.cast(correct_pred, tf.float32), name='accuracy')\n",
    "\n",
    "tests.test_conv_net(conv_net)"
   ]
  },
  {
   "cell_type": "markdown",
   "metadata": {
    "deletable": true,
    "editable": true
   },
   "source": [
    "## Train the Neural Network\n",
    "### Single Optimization\n",
    "Implement the function `train_neural_network` to do a single optimization.  The optimization should use `optimizer` to optimize in `session` with a `feed_dict` of the following:\n",
    "* `x` for image input\n",
    "* `y` for labels\n",
    "* `keep_prob` for keep probability for dropout\n",
    "\n",
    "This function will be called for each batch, so `tf.global_variables_initializer()` has already been called.\n",
    "\n",
    "Note: Nothing needs to be returned. This function is only optimizing the neural network."
   ]
  },
  {
   "cell_type": "code",
   "execution_count": 13,
   "metadata": {
    "collapsed": false,
    "deletable": true,
    "editable": true
   },
   "outputs": [
    {
     "name": "stdout",
     "output_type": "stream",
     "text": [
      "Tests Passed\n"
     ]
    }
   ],
   "source": [
    "def train_neural_network(session, optimizer, keep_probability, feature_batch, label_batch):\n",
    "    \"\"\"\n",
    "    Optimize the session on a batch of images and labels\n",
    "    : session: Current TensorFlow session\n",
    "    : optimizer: TensorFlow optimizer function\n",
    "    : keep_probability: keep probability\n",
    "    : feature_batch: Batch of Numpy image data\n",
    "    : label_batch: Batch of Numpy label data\n",
    "    \"\"\"\n",
    "    # TODO: Implement Function\n",
    "    train_feed_dict = {\n",
    "                x: feature_batch,\n",
    "                y: label_batch,\n",
    "                keep_prob: keep_probability}\n",
    "    \n",
    "    session.run(optimizer, feed_dict = train_feed_dict)\n",
    "\n",
    "\"\"\"\n",
    "DON'T MODIFY ANYTHING IN THIS CELL THAT IS BELOW THIS LINE\n",
    "\"\"\"\n",
    "tests.test_train_nn(train_neural_network)"
   ]
  },
  {
   "cell_type": "markdown",
   "metadata": {
    "deletable": true,
    "editable": true
   },
   "source": [
    "### Show Stats\n",
    "Implement the function `print_stats` to print loss and validation accuracy.  Use the global variables `valid_features` and `valid_labels` to calculate validation accuracy.  Use a keep probability of `1.0` to calculate the loss and validation accuracy."
   ]
  },
  {
   "cell_type": "code",
   "execution_count": 14,
   "metadata": {
    "collapsed": true,
    "deletable": true,
    "editable": true
   },
   "outputs": [],
   "source": [
    "def print_stats(session, feature_batch, label_batch, cost, accuracy):\n",
    "    \"\"\"\n",
    "    Print information about loss and validation accuracy\n",
    "    : session: Current TensorFlow session\n",
    "    : feature_batch: Batch of Numpy image data\n",
    "    : label_batch: Batch of Numpy label data\n",
    "    : cost: TensorFlow cost function\n",
    "    : accuracy: TensorFlow accuracy function\n",
    "    \"\"\"\n",
    "    # TODO: Implement Function\n",
    "    loss = session.run(cost, feed_dict = {x: feature_batch, y: label_batch, keep_prob: 1.0})\n",
    "\n",
    "    validation_accuracy = session.run(accuracy, feed_dict = {x: valid_features, y: valid_labels, keep_prob: 1.0})\n",
    "\n",
    "    print(\"Loss: {}\".format(loss))\n",
    "    print(\"Validation accuracy: {}\".format(validation_accuracy))"
   ]
  },
  {
   "cell_type": "markdown",
   "metadata": {
    "deletable": true,
    "editable": true
   },
   "source": [
    "### Hyperparameters\n",
    "Tune the following parameters:\n",
    "* Set `epochs` to the number of iterations until the network stops learning or start overfitting\n",
    "* Set `batch_size` to the highest number that your machine has memory for.  Most people set them to common sizes of memory:\n",
    " * 64\n",
    " * 128\n",
    " * 256\n",
    " * ...\n",
    "* Set `keep_probability` to the probability of keeping a node using dropout"
   ]
  },
  {
   "cell_type": "code",
   "execution_count": 15,
   "metadata": {
    "collapsed": true,
    "deletable": true,
    "editable": true
   },
   "outputs": [],
   "source": [
    "# TODO: Tune Parameters\n",
    "epochs = 50\n",
    "batch_size = 256\n",
    "keep_probability = 0.7"
   ]
  },
  {
   "cell_type": "markdown",
   "metadata": {
    "deletable": true,
    "editable": true
   },
   "source": [
    "### Train on a Single CIFAR-10 Batch\n",
    "Instead of training the neural network on all the CIFAR-10 batches of data, let's use a single batch. This should save time while you iterate on the model to get a better accuracy.  Once the final validation accuracy is 50% or greater, run the model on all the data in the next section."
   ]
  },
  {
   "cell_type": "code",
   "execution_count": 17,
   "metadata": {
    "collapsed": false,
    "deletable": true,
    "editable": true
   },
   "outputs": [
    {
     "name": "stdout",
     "output_type": "stream",
     "text": [
      "Checking the Training on a Single Batch...\n",
      "Epoch  1, CIFAR-10 Batch 1:  Loss: 2.1428632736206055\n",
      "Validation accuracy: 0.25679999589920044\n",
      "Epoch  2, CIFAR-10 Batch 1:  Loss: 1.8650741577148438\n",
      "Validation accuracy: 0.34640002250671387\n",
      "Epoch  3, CIFAR-10 Batch 1:  Loss: 1.7445642948150635\n",
      "Validation accuracy: 0.405599981546402\n",
      "Epoch  4, CIFAR-10 Batch 1:  Loss: 1.479775309562683\n",
      "Validation accuracy: 0.45659998059272766\n",
      "Epoch  5, CIFAR-10 Batch 1:  Loss: 1.2766411304473877\n",
      "Validation accuracy: 0.437999963760376\n",
      "Epoch  6, CIFAR-10 Batch 1:  Loss: 1.0665638446807861\n",
      "Validation accuracy: 0.47759997844696045\n",
      "Epoch  7, CIFAR-10 Batch 1:  Loss: 0.8318222761154175\n",
      "Validation accuracy: 0.5219999551773071\n",
      "Epoch  8, CIFAR-10 Batch 1:  Loss: 0.6716569066047668\n",
      "Validation accuracy: 0.543199896812439\n",
      "Epoch  9, CIFAR-10 Batch 1:  Loss: 0.5246524810791016\n",
      "Validation accuracy: 0.5455999374389648\n",
      "Epoch 10, CIFAR-10 Batch 1:  Loss: 0.3688092827796936\n",
      "Validation accuracy: 0.5595999360084534\n",
      "Epoch 11, CIFAR-10 Batch 1:  Loss: 0.2984094023704529\n",
      "Validation accuracy: 0.5475999712944031\n",
      "Epoch 12, CIFAR-10 Batch 1:  Loss: 0.2101268321275711\n",
      "Validation accuracy: 0.5559999346733093\n",
      "Epoch 13, CIFAR-10 Batch 1:  Loss: 0.18856649100780487\n",
      "Validation accuracy: 0.5635999441146851\n",
      "Epoch 14, CIFAR-10 Batch 1:  Loss: 0.12860363721847534\n",
      "Validation accuracy: 0.5621999502182007\n",
      "Epoch 15, CIFAR-10 Batch 1:  Loss: 0.1359037607908249\n",
      "Validation accuracy: 0.5281999111175537\n",
      "Epoch 16, CIFAR-10 Batch 1:  Loss: 0.07581566274166107\n",
      "Validation accuracy: 0.561199963092804\n",
      "Epoch 17, CIFAR-10 Batch 1:  Loss: 0.08372416347265244\n",
      "Validation accuracy: 0.5371999740600586\n",
      "Epoch 18, CIFAR-10 Batch 1:  Loss: 0.0469265878200531\n",
      "Validation accuracy: 0.5387998819351196\n",
      "Epoch 19, CIFAR-10 Batch 1:  Loss: 0.06912275403738022\n",
      "Validation accuracy: 0.5595998764038086\n",
      "Epoch 20, CIFAR-10 Batch 1:  Loss: 0.031283020973205566\n",
      "Validation accuracy: 0.5489999055862427\n",
      "Epoch 21, CIFAR-10 Batch 1:  Loss: 0.015832001343369484\n",
      "Validation accuracy: 0.5641999244689941\n",
      "Epoch 22, CIFAR-10 Batch 1:  Loss: 0.020032059401273727\n",
      "Validation accuracy: 0.5543999671936035\n",
      "Epoch 23, CIFAR-10 Batch 1:  Loss: 0.016734562814235687\n",
      "Validation accuracy: 0.5477999448776245\n",
      "Epoch 24, CIFAR-10 Batch 1:  Loss: 0.007358444854617119\n",
      "Validation accuracy: 0.5637999176979065\n",
      "Epoch 25, CIFAR-10 Batch 1:  Loss: 0.007339113391935825\n",
      "Validation accuracy: 0.5469999313354492\n",
      "Epoch 26, CIFAR-10 Batch 1:  Loss: 0.0015392099739983678\n",
      "Validation accuracy: 0.5749999284744263\n",
      "Epoch 27, CIFAR-10 Batch 1:  Loss: 0.0016722467262297869\n",
      "Validation accuracy: 0.5715999603271484\n",
      "Epoch 28, CIFAR-10 Batch 1:  Loss: 0.0023885322734713554\n",
      "Validation accuracy: 0.5659999847412109\n",
      "Epoch 29, CIFAR-10 Batch 1:  Loss: 0.0014803429367020726\n",
      "Validation accuracy: 0.5603999495506287\n",
      "Epoch 30, CIFAR-10 Batch 1:  Loss: 0.0007994162733666599\n",
      "Validation accuracy: 0.556399941444397\n",
      "Epoch 31, CIFAR-10 Batch 1:  Loss: 0.0007809080416336656\n",
      "Validation accuracy: 0.5675999522209167\n",
      "Epoch 32, CIFAR-10 Batch 1:  Loss: 0.0008306367672048509\n",
      "Validation accuracy: 0.555199921131134\n",
      "Epoch 33, CIFAR-10 Batch 1:  Loss: 0.0007849488756619394\n",
      "Validation accuracy: 0.5683999061584473\n",
      "Epoch 34, CIFAR-10 Batch 1:  Loss: 0.000814074941445142\n",
      "Validation accuracy: 0.5625999569892883\n",
      "Epoch 35, CIFAR-10 Batch 1:  Loss: 0.0008770118583925068\n",
      "Validation accuracy: 0.5577999353408813\n",
      "Epoch 36, CIFAR-10 Batch 1:  Loss: 0.0004150366294197738\n",
      "Validation accuracy: 0.5661998987197876\n",
      "Epoch 37, CIFAR-10 Batch 1:  Loss: 0.0005145372706465423\n",
      "Validation accuracy: 0.5677999258041382\n",
      "Epoch 38, CIFAR-10 Batch 1:  Loss: 0.0014512897469103336\n",
      "Validation accuracy: 0.5499999523162842\n",
      "Epoch 39, CIFAR-10 Batch 1:  Loss: 0.0028432710096240044\n",
      "Validation accuracy: 0.5189999938011169\n",
      "Epoch 40, CIFAR-10 Batch 1:  Loss: 0.0020991794299334288\n",
      "Validation accuracy: 0.55159991979599\n",
      "Epoch 41, CIFAR-10 Batch 1:  Loss: 0.00021350508905015886\n",
      "Validation accuracy: 0.5619999170303345\n",
      "Epoch 42, CIFAR-10 Batch 1:  Loss: 0.0004209060571156442\n",
      "Validation accuracy: 0.5639999508857727\n",
      "Epoch 43, CIFAR-10 Batch 1:  Loss: 0.0002257675805594772\n",
      "Validation accuracy: 0.5699999332427979\n",
      "Epoch 44, CIFAR-10 Batch 1:  Loss: 0.0005640846211463213\n",
      "Validation accuracy: 0.5445999503135681\n",
      "Epoch 45, CIFAR-10 Batch 1:  Loss: 0.00011595887917792425\n",
      "Validation accuracy: 0.5695999264717102\n",
      "Epoch 46, CIFAR-10 Batch 1:  Loss: 0.00027563420007936656\n",
      "Validation accuracy: 0.5665999054908752\n",
      "Epoch 47, CIFAR-10 Batch 1:  Loss: 0.00023922251421026886\n",
      "Validation accuracy: 0.5753998756408691\n",
      "Epoch 48, CIFAR-10 Batch 1:  Loss: 0.001048755133524537\n",
      "Validation accuracy: 0.5717999339103699\n",
      "Epoch 49, CIFAR-10 Batch 1:  Loss: 0.00012629527191165835\n",
      "Validation accuracy: 0.5625999569892883\n",
      "Epoch 50, CIFAR-10 Batch 1:  Loss: 0.0002691534464247525\n",
      "Validation accuracy: 0.5591999292373657\n"
     ]
    }
   ],
   "source": [
    "\"\"\"\n",
    "DON'T MODIFY ANYTHING IN THIS CELL\n",
    "\"\"\"\n",
    "print('Checking the Training on a Single Batch...')\n",
    "with tf.Session() as sess:\n",
    "    # Initializing the variables\n",
    "    sess.run(tf.global_variables_initializer())\n",
    "    \n",
    "    # Training cycle\n",
    "    for epoch in range(epochs):\n",
    "        batch_i = 1\n",
    "        for batch_features, batch_labels in helper.load_preprocess_training_batch(batch_i, batch_size):\n",
    "            train_neural_network(sess, optimizer, keep_probability, batch_features, batch_labels)\n",
    "        print('Epoch {:>2}, CIFAR-10 Batch {}:  '.format(epoch + 1, batch_i), end='')\n",
    "        print_stats(sess, batch_features, batch_labels, cost, accuracy)"
   ]
  },
  {
   "cell_type": "markdown",
   "metadata": {
    "deletable": true,
    "editable": true
   },
   "source": [
    "### Fully Train the Model\n",
    "Now that you got a good accuracy with a single CIFAR-10 batch, try it with all five batches."
   ]
  },
  {
   "cell_type": "code",
   "execution_count": 18,
   "metadata": {
    "collapsed": false,
    "deletable": true,
    "editable": true
   },
   "outputs": [
    {
     "name": "stdout",
     "output_type": "stream",
     "text": [
      "Training...\n",
      "Epoch  1, CIFAR-10 Batch 1:  Loss: 2.05169939994812\n",
      "Validation accuracy: 0.28699997067451477\n",
      "Epoch  1, CIFAR-10 Batch 2:  Loss: 1.706849455833435\n",
      "Validation accuracy: 0.366599977016449\n",
      "Epoch  1, CIFAR-10 Batch 3:  Loss: 1.4468350410461426\n",
      "Validation accuracy: 0.4121999740600586\n",
      "Epoch  1, CIFAR-10 Batch 4:  Loss: 1.4851274490356445\n",
      "Validation accuracy: 0.4593999683856964\n",
      "Epoch  1, CIFAR-10 Batch 5:  Loss: 1.4436802864074707\n",
      "Validation accuracy: 0.4931999742984772\n",
      "Epoch  2, CIFAR-10 Batch 1:  Loss: 1.4231736660003662\n",
      "Validation accuracy: 0.5163999199867249\n",
      "Epoch  2, CIFAR-10 Batch 2:  Loss: 1.205202579498291\n",
      "Validation accuracy: 0.5257999897003174\n",
      "Epoch  2, CIFAR-10 Batch 3:  Loss: 0.9675007462501526\n",
      "Validation accuracy: 0.5109999775886536\n",
      "Epoch  2, CIFAR-10 Batch 4:  Loss: 1.1243740320205688\n",
      "Validation accuracy: 0.524399995803833\n",
      "Epoch  2, CIFAR-10 Batch 5:  Loss: 1.0650023221969604\n",
      "Validation accuracy: 0.554599940776825\n",
      "Epoch  3, CIFAR-10 Batch 1:  Loss: 1.0410852432250977\n",
      "Validation accuracy: 0.5519999265670776\n",
      "Epoch  3, CIFAR-10 Batch 2:  Loss: 0.9302152395248413\n",
      "Validation accuracy: 0.5751999020576477\n",
      "Epoch  3, CIFAR-10 Batch 3:  Loss: 0.7388566732406616\n",
      "Validation accuracy: 0.5491999983787537\n",
      "Epoch  3, CIFAR-10 Batch 4:  Loss: 0.8458253145217896\n",
      "Validation accuracy: 0.5801998972892761\n",
      "Epoch  3, CIFAR-10 Batch 5:  Loss: 0.7334467172622681\n",
      "Validation accuracy: 0.5793999433517456\n",
      "Epoch  4, CIFAR-10 Batch 1:  Loss: 0.8229830265045166\n",
      "Validation accuracy: 0.6011998653411865\n",
      "Epoch  4, CIFAR-10 Batch 2:  Loss: 0.7091544270515442\n",
      "Validation accuracy: 0.596799910068512\n",
      "Epoch  4, CIFAR-10 Batch 3:  Loss: 0.5104590654373169\n",
      "Validation accuracy: 0.6103999018669128\n",
      "Epoch  4, CIFAR-10 Batch 4:  Loss: 0.6731013059616089\n",
      "Validation accuracy: 0.6079999208450317\n",
      "Epoch  4, CIFAR-10 Batch 5:  Loss: 0.577414870262146\n",
      "Validation accuracy: 0.5945999026298523\n",
      "Epoch  5, CIFAR-10 Batch 1:  Loss: 0.6024929881095886\n",
      "Validation accuracy: 0.6221998929977417\n",
      "Epoch  5, CIFAR-10 Batch 2:  Loss: 0.5061171054840088\n",
      "Validation accuracy: 0.6157998442649841\n",
      "Epoch  5, CIFAR-10 Batch 3:  Loss: 0.3853130340576172\n",
      "Validation accuracy: 0.6149999499320984\n",
      "Epoch  5, CIFAR-10 Batch 4:  Loss: 0.46037375926971436\n",
      "Validation accuracy: 0.627799928188324\n",
      "Epoch  5, CIFAR-10 Batch 5:  Loss: 0.3774818778038025\n",
      "Validation accuracy: 0.6349998712539673\n",
      "Epoch  6, CIFAR-10 Batch 1:  Loss: 0.48770788311958313\n",
      "Validation accuracy: 0.627799928188324\n",
      "Epoch  6, CIFAR-10 Batch 2:  Loss: 0.3352591097354889\n",
      "Validation accuracy: 0.6335998773574829\n",
      "Epoch  6, CIFAR-10 Batch 3:  Loss: 0.2968685030937195\n",
      "Validation accuracy: 0.6297999024391174\n",
      "Epoch  6, CIFAR-10 Batch 4:  Loss: 0.3697858452796936\n",
      "Validation accuracy: 0.6475998759269714\n",
      "Epoch  6, CIFAR-10 Batch 5:  Loss: 0.26142358779907227\n",
      "Validation accuracy: 0.6515998840332031\n",
      "Epoch  7, CIFAR-10 Batch 1:  Loss: 0.33081290125846863\n",
      "Validation accuracy: 0.6323999166488647\n",
      "Epoch  7, CIFAR-10 Batch 2:  Loss: 0.23301786184310913\n",
      "Validation accuracy: 0.6429998874664307\n",
      "Epoch  7, CIFAR-10 Batch 3:  Loss: 0.1964578628540039\n",
      "Validation accuracy: 0.6497998833656311\n",
      "Epoch  7, CIFAR-10 Batch 4:  Loss: 0.22243018448352814\n",
      "Validation accuracy: 0.6609998345375061\n",
      "Epoch  7, CIFAR-10 Batch 5:  Loss: 0.22840000689029694\n",
      "Validation accuracy: 0.6357998847961426\n",
      "Epoch  8, CIFAR-10 Batch 1:  Loss: 0.2386299967765808\n",
      "Validation accuracy: 0.6281998753547668\n",
      "Epoch  8, CIFAR-10 Batch 2:  Loss: 0.15405604243278503\n",
      "Validation accuracy: 0.6469998955726624\n",
      "Epoch  8, CIFAR-10 Batch 3:  Loss: 0.1527215540409088\n",
      "Validation accuracy: 0.6331998705863953\n",
      "Epoch  8, CIFAR-10 Batch 4:  Loss: 0.15430068969726562\n",
      "Validation accuracy: 0.6569998860359192\n",
      "Epoch  8, CIFAR-10 Batch 5:  Loss: 0.13714729249477386\n",
      "Validation accuracy: 0.6515998840332031\n",
      "Epoch  9, CIFAR-10 Batch 1:  Loss: 0.1606259047985077\n",
      "Validation accuracy: 0.6417998671531677\n",
      "Epoch  9, CIFAR-10 Batch 2:  Loss: 0.1338348537683487\n",
      "Validation accuracy: 0.6301999092102051\n",
      "Epoch  9, CIFAR-10 Batch 3:  Loss: 0.10091063380241394\n",
      "Validation accuracy: 0.6545999050140381\n",
      "Epoch  9, CIFAR-10 Batch 4:  Loss: 0.10819557309150696\n",
      "Validation accuracy: 0.6607999205589294\n",
      "Epoch  9, CIFAR-10 Batch 5:  Loss: 0.08957955986261368\n",
      "Validation accuracy: 0.6603999137878418\n",
      "Epoch 10, CIFAR-10 Batch 1:  Loss: 0.09927479922771454\n",
      "Validation accuracy: 0.6587998867034912\n",
      "Epoch 10, CIFAR-10 Batch 2:  Loss: 0.08590440452098846\n",
      "Validation accuracy: 0.6449998617172241\n",
      "Epoch 10, CIFAR-10 Batch 3:  Loss: 0.08186426758766174\n",
      "Validation accuracy: 0.6659998893737793\n",
      "Epoch 10, CIFAR-10 Batch 4:  Loss: 0.1505594104528427\n",
      "Validation accuracy: 0.6399998664855957\n",
      "Epoch 10, CIFAR-10 Batch 5:  Loss: 0.07711140811443329\n",
      "Validation accuracy: 0.6623998880386353\n",
      "Epoch 11, CIFAR-10 Batch 1:  Loss: 0.08673928678035736\n",
      "Validation accuracy: 0.658599853515625\n",
      "Epoch 11, CIFAR-10 Batch 2:  Loss: 0.05515769124031067\n",
      "Validation accuracy: 0.6599998474121094\n",
      "Epoch 11, CIFAR-10 Batch 3:  Loss: 0.061688318848609924\n",
      "Validation accuracy: 0.6557998657226562\n",
      "Epoch 11, CIFAR-10 Batch 4:  Loss: 0.06546035408973694\n",
      "Validation accuracy: 0.6661998629570007\n",
      "Epoch 11, CIFAR-10 Batch 5:  Loss: 0.04625182971358299\n",
      "Validation accuracy: 0.6649999022483826\n",
      "Epoch 12, CIFAR-10 Batch 1:  Loss: 0.0761004313826561\n",
      "Validation accuracy: 0.6653999090194702\n",
      "Epoch 12, CIFAR-10 Batch 2:  Loss: 0.04457954689860344\n",
      "Validation accuracy: 0.6415998339653015\n",
      "Epoch 12, CIFAR-10 Batch 3:  Loss: 0.03497937694191933\n",
      "Validation accuracy: 0.6693999171257019\n",
      "Epoch 12, CIFAR-10 Batch 4:  Loss: 0.046469394117593765\n",
      "Validation accuracy: 0.6681998372077942\n",
      "Epoch 12, CIFAR-10 Batch 5:  Loss: 0.039313651621341705\n",
      "Validation accuracy: 0.666999876499176\n",
      "Epoch 13, CIFAR-10 Batch 1:  Loss: 0.04697402939200401\n",
      "Validation accuracy: 0.6685999035835266\n",
      "Epoch 13, CIFAR-10 Batch 2:  Loss: 0.040596991777420044\n",
      "Validation accuracy: 0.6663998365402222\n",
      "Epoch 13, CIFAR-10 Batch 3:  Loss: 0.01198849081993103\n",
      "Validation accuracy: 0.6563999652862549\n",
      "Epoch 13, CIFAR-10 Batch 4:  Loss: 0.03593696653842926\n",
      "Validation accuracy: 0.6771998405456543\n",
      "Epoch 13, CIFAR-10 Batch 5:  Loss: 0.03627936914563179\n",
      "Validation accuracy: 0.6565999388694763\n",
      "Epoch 14, CIFAR-10 Batch 1:  Loss: 0.035472795367240906\n",
      "Validation accuracy: 0.6553998589515686\n",
      "Epoch 14, CIFAR-10 Batch 2:  Loss: 0.0217818021774292\n",
      "Validation accuracy: 0.6771998405456543\n",
      "Epoch 14, CIFAR-10 Batch 3:  Loss: 0.021402506157755852\n",
      "Validation accuracy: 0.6737998723983765\n",
      "Epoch 14, CIFAR-10 Batch 4:  Loss: 0.03108188509941101\n",
      "Validation accuracy: 0.6723998785018921\n",
      "Epoch 14, CIFAR-10 Batch 5:  Loss: 0.026843741536140442\n",
      "Validation accuracy: 0.6413999199867249\n",
      "Epoch 15, CIFAR-10 Batch 1:  Loss: 0.02641400508582592\n",
      "Validation accuracy: 0.6645998954772949\n",
      "Epoch 15, CIFAR-10 Batch 2:  Loss: 0.014595547690987587\n",
      "Validation accuracy: 0.6743998527526855\n",
      "Epoch 15, CIFAR-10 Batch 3:  Loss: 0.027266528457403183\n",
      "Validation accuracy: 0.643799901008606\n",
      "Epoch 15, CIFAR-10 Batch 4:  Loss: 0.024098750203847885\n",
      "Validation accuracy: 0.676399827003479\n",
      "Epoch 15, CIFAR-10 Batch 5:  Loss: 0.009742803871631622\n",
      "Validation accuracy: 0.6839998960494995\n",
      "Epoch 16, CIFAR-10 Batch 1:  Loss: 0.017931561917066574\n",
      "Validation accuracy: 0.6593998670578003\n",
      "Epoch 16, CIFAR-10 Batch 2:  Loss: 0.02115865796804428\n",
      "Validation accuracy: 0.6517998576164246\n",
      "Epoch 16, CIFAR-10 Batch 3:  Loss: 0.011256027035415173\n",
      "Validation accuracy: 0.6531998515129089\n",
      "Epoch 16, CIFAR-10 Batch 4:  Loss: 0.018257495015859604\n",
      "Validation accuracy: 0.6685999035835266\n",
      "Epoch 16, CIFAR-10 Batch 5:  Loss: 0.019412372261285782\n",
      "Validation accuracy: 0.6691998839378357\n",
      "Epoch 17, CIFAR-10 Batch 1:  Loss: 0.017173059284687042\n",
      "Validation accuracy: 0.6441998481750488\n",
      "Epoch 17, CIFAR-10 Batch 2:  Loss: 0.029722340404987335\n",
      "Validation accuracy: 0.6429998874664307\n",
      "Epoch 17, CIFAR-10 Batch 3:  Loss: 0.008646586909890175\n",
      "Validation accuracy: 0.6505998969078064\n",
      "Epoch 17, CIFAR-10 Batch 4:  Loss: 0.012982401996850967\n",
      "Validation accuracy: 0.6671998500823975\n",
      "Epoch 17, CIFAR-10 Batch 5:  Loss: 0.023558706045150757\n",
      "Validation accuracy: 0.6837998628616333\n",
      "Epoch 18, CIFAR-10 Batch 1:  Loss: 0.010546538978815079\n",
      "Validation accuracy: 0.6601998805999756\n",
      "Epoch 18, CIFAR-10 Batch 2:  Loss: 0.021257730200886726\n",
      "Validation accuracy: 0.6719998717308044\n",
      "Epoch 18, CIFAR-10 Batch 3:  Loss: 0.008384309709072113\n",
      "Validation accuracy: 0.6689998507499695\n",
      "Epoch 18, CIFAR-10 Batch 4:  Loss: 0.00655402522534132\n",
      "Validation accuracy: 0.668199896812439\n",
      "Epoch 18, CIFAR-10 Batch 5:  Loss: 0.004697124008089304\n",
      "Validation accuracy: 0.6805998682975769\n",
      "Epoch 19, CIFAR-10 Batch 1:  Loss: 0.012143903411924839\n",
      "Validation accuracy: 0.6537998914718628\n",
      "Epoch 19, CIFAR-10 Batch 2:  Loss: 0.017946647480130196\n",
      "Validation accuracy: 0.6683998703956604\n",
      "Epoch 19, CIFAR-10 Batch 3:  Loss: 0.009830577298998833\n",
      "Validation accuracy: 0.6637998819351196\n",
      "Epoch 19, CIFAR-10 Batch 4:  Loss: 0.010294261388480663\n",
      "Validation accuracy: 0.679399847984314\n",
      "Epoch 19, CIFAR-10 Batch 5:  Loss: 0.004335224628448486\n",
      "Validation accuracy: 0.6729998588562012\n",
      "Epoch 20, CIFAR-10 Batch 1:  Loss: 0.006727785337716341\n",
      "Validation accuracy: 0.6463999152183533\n",
      "Epoch 20, CIFAR-10 Batch 2:  Loss: 0.017627034336328506\n",
      "Validation accuracy: 0.6623998880386353\n",
      "Epoch 20, CIFAR-10 Batch 3:  Loss: 0.015492424368858337\n",
      "Validation accuracy: 0.6557998657226562\n",
      "Epoch 20, CIFAR-10 Batch 4:  Loss: 0.010823403485119343\n",
      "Validation accuracy: 0.6739998459815979\n",
      "Epoch 20, CIFAR-10 Batch 5:  Loss: 0.003024432575330138\n",
      "Validation accuracy: 0.6797998547554016\n",
      "Epoch 21, CIFAR-10 Batch 1:  Loss: 0.005442015361040831\n",
      "Validation accuracy: 0.6671999096870422\n",
      "Epoch 21, CIFAR-10 Batch 2:  Loss: 0.006032465025782585\n",
      "Validation accuracy: 0.6765998601913452\n",
      "Epoch 21, CIFAR-10 Batch 3:  Loss: 0.009335060603916645\n",
      "Validation accuracy: 0.6495999097824097\n",
      "Epoch 21, CIFAR-10 Batch 4:  Loss: 0.011624936014413834\n",
      "Validation accuracy: 0.6761999130249023\n",
      "Epoch 21, CIFAR-10 Batch 5:  Loss: 0.0034174390602856874\n",
      "Validation accuracy: 0.6843999028205872\n",
      "Epoch 22, CIFAR-10 Batch 1:  Loss: 0.009154426865279675\n",
      "Validation accuracy: 0.6489999294281006\n",
      "Epoch 22, CIFAR-10 Batch 2:  Loss: 0.005308249965310097\n",
      "Validation accuracy: 0.6643999218940735\n",
      "Epoch 22, CIFAR-10 Batch 3:  Loss: 0.0030683549121022224\n",
      "Validation accuracy: 0.6553999185562134\n",
      "Epoch 22, CIFAR-10 Batch 4:  Loss: 0.004083116538822651\n",
      "Validation accuracy: 0.6789999008178711\n",
      "Epoch 22, CIFAR-10 Batch 5:  Loss: 0.002314407378435135\n",
      "Validation accuracy: 0.6769998669624329\n",
      "Epoch 23, CIFAR-10 Batch 1:  Loss: 0.00624307943508029\n",
      "Validation accuracy: 0.679399847984314\n",
      "Epoch 23, CIFAR-10 Batch 2:  Loss: 0.008441558107733727\n",
      "Validation accuracy: 0.6577998995780945\n",
      "Epoch 23, CIFAR-10 Batch 3:  Loss: 0.0066110603511333466\n",
      "Validation accuracy: 0.6475999355316162\n",
      "Epoch 23, CIFAR-10 Batch 4:  Loss: 0.003422719659283757\n",
      "Validation accuracy: 0.6833999156951904\n",
      "Epoch 23, CIFAR-10 Batch 5:  Loss: 0.002846081741154194\n",
      "Validation accuracy: 0.6807998418807983\n",
      "Epoch 24, CIFAR-10 Batch 1:  Loss: 0.00730181485414505\n",
      "Validation accuracy: 0.666199803352356\n",
      "Epoch 24, CIFAR-10 Batch 2:  Loss: 0.0029063071124255657\n",
      "Validation accuracy: 0.6587998867034912\n",
      "Epoch 24, CIFAR-10 Batch 3:  Loss: 0.001508444081991911\n",
      "Validation accuracy: 0.6633998155593872\n",
      "Epoch 24, CIFAR-10 Batch 4:  Loss: 0.008256553672254086\n",
      "Validation accuracy: 0.6801998615264893\n",
      "Epoch 24, CIFAR-10 Batch 5:  Loss: 0.0013688926119357347\n",
      "Validation accuracy: 0.6793999671936035\n",
      "Epoch 25, CIFAR-10 Batch 1:  Loss: 0.004382675979286432\n",
      "Validation accuracy: 0.6747998595237732\n",
      "Epoch 25, CIFAR-10 Batch 2:  Loss: 0.002144684549421072\n",
      "Validation accuracy: 0.666999876499176\n",
      "Epoch 25, CIFAR-10 Batch 3:  Loss: 0.003597609233111143\n",
      "Validation accuracy: 0.6593999266624451\n",
      "Epoch 25, CIFAR-10 Batch 4:  Loss: 0.005414047744125128\n",
      "Validation accuracy: 0.6733999252319336\n",
      "Epoch 25, CIFAR-10 Batch 5:  Loss: 0.007159117143601179\n",
      "Validation accuracy: 0.6803998947143555\n",
      "Epoch 26, CIFAR-10 Batch 1:  Loss: 0.005247175693511963\n",
      "Validation accuracy: 0.6609998941421509\n",
      "Epoch 26, CIFAR-10 Batch 2:  Loss: 0.0032403769437223673\n",
      "Validation accuracy: 0.6673998236656189\n",
      "Epoch 26, CIFAR-10 Batch 3:  Loss: 0.0016496146563440561\n",
      "Validation accuracy: 0.6711997985839844\n",
      "Epoch 26, CIFAR-10 Batch 4:  Loss: 0.00288312416523695\n",
      "Validation accuracy: 0.6807998418807983\n",
      "Epoch 26, CIFAR-10 Batch 5:  Loss: 0.0022768396884202957\n",
      "Validation accuracy: 0.6639998555183411\n",
      "Epoch 27, CIFAR-10 Batch 1:  Loss: 0.005016771610826254\n",
      "Validation accuracy: 0.6773998737335205\n",
      "Epoch 27, CIFAR-10 Batch 2:  Loss: 0.001187347574159503\n",
      "Validation accuracy: 0.665199875831604\n",
      "Epoch 27, CIFAR-10 Batch 3:  Loss: 0.0006806250312365592\n",
      "Validation accuracy: 0.6819998621940613\n",
      "Epoch 27, CIFAR-10 Batch 4:  Loss: 0.004027946386486292\n",
      "Validation accuracy: 0.6643999218940735\n",
      "Epoch 27, CIFAR-10 Batch 5:  Loss: 0.0026168690528720617\n",
      "Validation accuracy: 0.6741999387741089\n",
      "Epoch 28, CIFAR-10 Batch 1:  Loss: 0.002109907567501068\n",
      "Validation accuracy: 0.6777999401092529\n",
      "Epoch 28, CIFAR-10 Batch 2:  Loss: 0.00262118480168283\n",
      "Validation accuracy: 0.6717998385429382\n",
      "Epoch 28, CIFAR-10 Batch 3:  Loss: 0.00048907904420048\n",
      "Validation accuracy: 0.6773999333381653\n",
      "Epoch 28, CIFAR-10 Batch 4:  Loss: 0.00477925781160593\n",
      "Validation accuracy: 0.6739999055862427\n",
      "Epoch 28, CIFAR-10 Batch 5:  Loss: 0.0021308492869138718\n",
      "Validation accuracy: 0.6701998710632324\n",
      "Epoch 29, CIFAR-10 Batch 1:  Loss: 0.0015170100377872586\n",
      "Validation accuracy: 0.6829999089241028\n",
      "Epoch 29, CIFAR-10 Batch 2:  Loss: 0.0015643336810171604\n",
      "Validation accuracy: 0.6821998357772827\n",
      "Epoch 29, CIFAR-10 Batch 3:  Loss: 0.0012135927099734545\n",
      "Validation accuracy: 0.679399847984314\n",
      "Epoch 29, CIFAR-10 Batch 4:  Loss: 0.003187485272064805\n",
      "Validation accuracy: 0.6647998094558716\n",
      "Epoch 29, CIFAR-10 Batch 5:  Loss: 0.0017904380802065134\n",
      "Validation accuracy: 0.6653998494148254\n",
      "Epoch 30, CIFAR-10 Batch 1:  Loss: 0.002309739589691162\n",
      "Validation accuracy: 0.6741998195648193\n",
      "Epoch 30, CIFAR-10 Batch 2:  Loss: 0.003842585952952504\n",
      "Validation accuracy: 0.6673998832702637\n",
      "Epoch 30, CIFAR-10 Batch 3:  Loss: 0.0014066819567233324\n",
      "Validation accuracy: 0.6821998953819275\n",
      "Epoch 30, CIFAR-10 Batch 4:  Loss: 0.004960951860994101\n",
      "Validation accuracy: 0.663599967956543\n",
      "Epoch 30, CIFAR-10 Batch 5:  Loss: 0.0014771430287510157\n",
      "Validation accuracy: 0.6547998785972595\n",
      "Epoch 31, CIFAR-10 Batch 1:  Loss: 0.0023558016400784254\n",
      "Validation accuracy: 0.6703998446464539\n",
      "Epoch 31, CIFAR-10 Batch 2:  Loss: 0.005841733887791634\n",
      "Validation accuracy: 0.6739999055862427\n",
      "Epoch 31, CIFAR-10 Batch 3:  Loss: 0.00047123251715674996\n",
      "Validation accuracy: 0.6863998174667358\n",
      "Epoch 31, CIFAR-10 Batch 4:  Loss: 0.005293666385114193\n",
      "Validation accuracy: 0.6659998297691345\n",
      "Epoch 31, CIFAR-10 Batch 5:  Loss: 0.0006117277080193162\n",
      "Validation accuracy: 0.6735998392105103\n",
      "Epoch 32, CIFAR-10 Batch 1:  Loss: 0.005218895617872477\n",
      "Validation accuracy: 0.6659998893737793\n",
      "Epoch 32, CIFAR-10 Batch 2:  Loss: 0.0011448985897004604\n",
      "Validation accuracy: 0.6567999124526978\n",
      "Epoch 32, CIFAR-10 Batch 3:  Loss: 0.00042851222679018974\n",
      "Validation accuracy: 0.6679998636245728\n",
      "Epoch 32, CIFAR-10 Batch 4:  Loss: 0.001545389648526907\n",
      "Validation accuracy: 0.6595999002456665\n",
      "Epoch 32, CIFAR-10 Batch 5:  Loss: 0.0005826663691550493\n",
      "Validation accuracy: 0.6779998540878296\n",
      "Epoch 33, CIFAR-10 Batch 1:  Loss: 0.0016047069802880287\n",
      "Validation accuracy: 0.6745998859405518\n",
      "Epoch 33, CIFAR-10 Batch 2:  Loss: 0.0006497932481579483\n",
      "Validation accuracy: 0.6715999245643616\n",
      "Epoch 33, CIFAR-10 Batch 3:  Loss: 0.00022079277550801635\n",
      "Validation accuracy: 0.6767998933792114\n",
      "Epoch 33, CIFAR-10 Batch 4:  Loss: 0.00027842362760566175\n",
      "Validation accuracy: 0.6761998534202576\n",
      "Epoch 33, CIFAR-10 Batch 5:  Loss: 0.0004679023695643991\n",
      "Validation accuracy: 0.6757999062538147\n",
      "Epoch 34, CIFAR-10 Batch 1:  Loss: 0.001231041387654841\n",
      "Validation accuracy: 0.6661999225616455\n",
      "Epoch 34, CIFAR-10 Batch 2:  Loss: 0.004449377302080393\n",
      "Validation accuracy: 0.6695998907089233\n",
      "Epoch 34, CIFAR-10 Batch 3:  Loss: 0.0013037872267886996\n",
      "Validation accuracy: 0.6693998575210571\n",
      "Epoch 34, CIFAR-10 Batch 4:  Loss: 0.002279367996379733\n",
      "Validation accuracy: 0.6597998738288879\n",
      "Epoch 34, CIFAR-10 Batch 5:  Loss: 0.0014291349798440933\n",
      "Validation accuracy: 0.6709998846054077\n",
      "Epoch 35, CIFAR-10 Batch 1:  Loss: 0.0013234554789960384\n",
      "Validation accuracy: 0.6611998677253723\n",
      "Epoch 35, CIFAR-10 Batch 2:  Loss: 0.0003631972358562052\n",
      "Validation accuracy: 0.6649999022483826\n",
      "Epoch 35, CIFAR-10 Batch 3:  Loss: 0.0014560108538717031\n",
      "Validation accuracy: 0.6707998514175415\n",
      "Epoch 35, CIFAR-10 Batch 4:  Loss: 0.00032638441189192235\n",
      "Validation accuracy: 0.6693998575210571\n",
      "Epoch 35, CIFAR-10 Batch 5:  Loss: 0.000975642295088619\n",
      "Validation accuracy: 0.6751998662948608\n",
      "Epoch 36, CIFAR-10 Batch 1:  Loss: 0.0007767765200696886\n",
      "Validation accuracy: 0.6665999293327332\n",
      "Epoch 36, CIFAR-10 Batch 2:  Loss: 0.001539391465485096\n",
      "Validation accuracy: 0.676399827003479\n",
      "Epoch 36, CIFAR-10 Batch 3:  Loss: 0.00044804633944295347\n",
      "Validation accuracy: 0.6779999136924744\n",
      "Epoch 36, CIFAR-10 Batch 4:  Loss: 0.002557688858360052\n",
      "Validation accuracy: 0.6709998846054077\n",
      "Epoch 36, CIFAR-10 Batch 5:  Loss: 0.0009444711031392217\n",
      "Validation accuracy: 0.6819998621940613\n",
      "Epoch 37, CIFAR-10 Batch 1:  Loss: 0.00027098855935037136\n",
      "Validation accuracy: 0.666999876499176\n",
      "Epoch 37, CIFAR-10 Batch 2:  Loss: 0.0012027332559227943\n",
      "Validation accuracy: 0.6755998730659485\n",
      "Epoch 37, CIFAR-10 Batch 3:  Loss: 0.0007774403784424067\n",
      "Validation accuracy: 0.6669999361038208\n",
      "Epoch 37, CIFAR-10 Batch 4:  Loss: 0.0011880105594173074\n",
      "Validation accuracy: 0.6739999055862427\n",
      "Epoch 37, CIFAR-10 Batch 5:  Loss: 0.0003561126650311053\n",
      "Validation accuracy: 0.6827999353408813\n",
      "Epoch 38, CIFAR-10 Batch 1:  Loss: 0.0007895127637311816\n",
      "Validation accuracy: 0.6557998657226562\n",
      "Epoch 38, CIFAR-10 Batch 2:  Loss: 0.001476444536820054\n",
      "Validation accuracy: 0.6629998683929443\n",
      "Epoch 38, CIFAR-10 Batch 3:  Loss: 0.0011354004964232445\n",
      "Validation accuracy: 0.671599805355072\n",
      "Epoch 38, CIFAR-10 Batch 4:  Loss: 0.0006100750179030001\n",
      "Validation accuracy: 0.6705999374389648\n",
      "Epoch 38, CIFAR-10 Batch 5:  Loss: 0.00015427556354552507\n",
      "Validation accuracy: 0.6759998798370361\n",
      "Epoch 39, CIFAR-10 Batch 1:  Loss: 0.0009505447815172374\n",
      "Validation accuracy: 0.6619998812675476\n",
      "Epoch 39, CIFAR-10 Batch 2:  Loss: 0.0006323740817606449\n",
      "Validation accuracy: 0.6715998649597168\n",
      "Epoch 39, CIFAR-10 Batch 3:  Loss: 0.0007358897710219026\n",
      "Validation accuracy: 0.6777998805046082\n",
      "Epoch 39, CIFAR-10 Batch 4:  Loss: 0.0015417239628732204\n",
      "Validation accuracy: 0.669999897480011\n",
      "Epoch 39, CIFAR-10 Batch 5:  Loss: 0.00030473314109258354\n",
      "Validation accuracy: 0.6671998500823975\n",
      "Epoch 40, CIFAR-10 Batch 1:  Loss: 0.0047639235854148865\n",
      "Validation accuracy: 0.657599925994873\n",
      "Epoch 40, CIFAR-10 Batch 2:  Loss: 0.0018504788167774677\n",
      "Validation accuracy: 0.6777998805046082\n",
      "Epoch 40, CIFAR-10 Batch 3:  Loss: 0.002057691104710102\n",
      "Validation accuracy: 0.6795998811721802\n",
      "Epoch 40, CIFAR-10 Batch 4:  Loss: 0.0023015388287603855\n",
      "Validation accuracy: 0.6789999008178711\n",
      "Epoch 40, CIFAR-10 Batch 5:  Loss: 0.0013108839048072696\n",
      "Validation accuracy: 0.665199875831604\n",
      "Epoch 41, CIFAR-10 Batch 1:  Loss: 0.0006925026536919177\n",
      "Validation accuracy: 0.6649999022483826\n",
      "Epoch 41, CIFAR-10 Batch 2:  Loss: 0.00017558883700985461\n",
      "Validation accuracy: 0.6679998636245728\n",
      "Epoch 41, CIFAR-10 Batch 3:  Loss: 0.00042331652366556227\n",
      "Validation accuracy: 0.6827998757362366\n",
      "Epoch 41, CIFAR-10 Batch 4:  Loss: 0.0008623236790299416\n",
      "Validation accuracy: 0.6679998636245728\n",
      "Epoch 41, CIFAR-10 Batch 5:  Loss: 2.0293693523854017e-05\n",
      "Validation accuracy: 0.6793999075889587\n",
      "Epoch 42, CIFAR-10 Batch 1:  Loss: 0.0017207354540005326\n",
      "Validation accuracy: 0.6549999117851257\n",
      "Epoch 42, CIFAR-10 Batch 2:  Loss: 0.0003841241996269673\n",
      "Validation accuracy: 0.6807998418807983\n",
      "Epoch 42, CIFAR-10 Batch 3:  Loss: 0.00038048429996706545\n",
      "Validation accuracy: 0.6807999014854431\n",
      "Epoch 42, CIFAR-10 Batch 4:  Loss: 0.0008677707519382238\n",
      "Validation accuracy: 0.6699998378753662\n",
      "Epoch 42, CIFAR-10 Batch 5:  Loss: 0.0009438948472961783\n",
      "Validation accuracy: 0.6669999361038208\n",
      "Epoch 43, CIFAR-10 Batch 1:  Loss: 0.002021648222580552\n",
      "Validation accuracy: 0.6717999577522278\n",
      "Epoch 43, CIFAR-10 Batch 2:  Loss: 0.0004519123467616737\n",
      "Validation accuracy: 0.6777998805046082\n",
      "Epoch 43, CIFAR-10 Batch 3:  Loss: 0.030759306624531746\n",
      "Validation accuracy: 0.6717998385429382\n",
      "Epoch 43, CIFAR-10 Batch 4:  Loss: 0.0005434949416667223\n",
      "Validation accuracy: 0.6751999258995056\n",
      "Epoch 43, CIFAR-10 Batch 5:  Loss: 0.0001866540842456743\n",
      "Validation accuracy: 0.6785998940467834\n",
      "Epoch 44, CIFAR-10 Batch 1:  Loss: 0.00382978655397892\n",
      "Validation accuracy: 0.6735998392105103\n",
      "Epoch 44, CIFAR-10 Batch 2:  Loss: 0.000342108600307256\n",
      "Validation accuracy: 0.6771998405456543\n",
      "Epoch 44, CIFAR-10 Batch 3:  Loss: 0.0017560371197760105\n",
      "Validation accuracy: 0.6689999103546143\n",
      "Epoch 44, CIFAR-10 Batch 4:  Loss: 0.0003717895888257772\n",
      "Validation accuracy: 0.6749998927116394\n",
      "Epoch 44, CIFAR-10 Batch 5:  Loss: 0.0002995785907842219\n",
      "Validation accuracy: 0.6653999090194702\n",
      "Epoch 45, CIFAR-10 Batch 1:  Loss: 0.001130918157286942\n",
      "Validation accuracy: 0.6745998859405518\n",
      "Epoch 45, CIFAR-10 Batch 2:  Loss: 0.0007420586771331728\n",
      "Validation accuracy: 0.6643999218940735\n",
      "Epoch 45, CIFAR-10 Batch 3:  Loss: 0.03027062676846981\n",
      "Validation accuracy: 0.6719998717308044\n",
      "Epoch 45, CIFAR-10 Batch 4:  Loss: 0.0007912429864518344\n",
      "Validation accuracy: 0.6609998941421509\n",
      "Epoch 45, CIFAR-10 Batch 5:  Loss: 0.0006324282730929554\n",
      "Validation accuracy: 0.6703999042510986\n",
      "Epoch 46, CIFAR-10 Batch 1:  Loss: 0.002414182061329484\n",
      "Validation accuracy: 0.669999897480011\n",
      "Epoch 46, CIFAR-10 Batch 2:  Loss: 0.0012947182403877378\n",
      "Validation accuracy: 0.6693998575210571\n",
      "Epoch 46, CIFAR-10 Batch 3:  Loss: 0.0006619557971134782\n",
      "Validation accuracy: 0.6635999083518982\n",
      "Epoch 46, CIFAR-10 Batch 4:  Loss: 0.0009787502931430936\n",
      "Validation accuracy: 0.685999870300293\n",
      "Epoch 46, CIFAR-10 Batch 5:  Loss: 0.00020253089314792305\n",
      "Validation accuracy: 0.6787998676300049\n",
      "Epoch 47, CIFAR-10 Batch 1:  Loss: 0.0004180888063274324\n",
      "Validation accuracy: 0.6655998229980469\n",
      "Epoch 47, CIFAR-10 Batch 2:  Loss: 0.008163850754499435\n",
      "Validation accuracy: 0.6679998636245728\n",
      "Epoch 47, CIFAR-10 Batch 3:  Loss: 0.0007685846067033708\n",
      "Validation accuracy: 0.674799919128418\n",
      "Epoch 47, CIFAR-10 Batch 4:  Loss: 0.0001798061275621876\n",
      "Validation accuracy: 0.6777998805046082\n",
      "Epoch 47, CIFAR-10 Batch 5:  Loss: 0.0006944091874174774\n",
      "Validation accuracy: 0.6691998243331909\n",
      "Epoch 48, CIFAR-10 Batch 1:  Loss: 0.0007456174935214221\n",
      "Validation accuracy: 0.660399854183197\n",
      "Epoch 48, CIFAR-10 Batch 2:  Loss: 0.0008704878855496645\n",
      "Validation accuracy: 0.681999921798706\n",
      "Epoch 48, CIFAR-10 Batch 3:  Loss: 0.00033985567279160023\n",
      "Validation accuracy: 0.6645998954772949\n",
      "Epoch 48, CIFAR-10 Batch 4:  Loss: 0.00015434778470080346\n",
      "Validation accuracy: 0.6819998621940613\n",
      "Epoch 48, CIFAR-10 Batch 5:  Loss: 0.00044540531234815717\n",
      "Validation accuracy: 0.6645998954772949\n",
      "Epoch 49, CIFAR-10 Batch 1:  Loss: 0.0004686433239839971\n",
      "Validation accuracy: 0.667199969291687\n",
      "Epoch 49, CIFAR-10 Batch 2:  Loss: 0.0005066308658570051\n",
      "Validation accuracy: 0.6757999062538147\n",
      "Epoch 49, CIFAR-10 Batch 3:  Loss: 0.00018034670210909098\n",
      "Validation accuracy: 0.6779998540878296\n",
      "Epoch 49, CIFAR-10 Batch 4:  Loss: 0.00038817556924186647\n",
      "Validation accuracy: 0.6705998778343201\n",
      "Epoch 49, CIFAR-10 Batch 5:  Loss: 9.199263149639592e-05\n",
      "Validation accuracy: 0.6793999075889587\n",
      "Epoch 50, CIFAR-10 Batch 1:  Loss: 8.550854545319453e-05\n",
      "Validation accuracy: 0.6679998636245728\n",
      "Epoch 50, CIFAR-10 Batch 2:  Loss: 0.0006517164874821901\n",
      "Validation accuracy: 0.6745998859405518\n",
      "Epoch 50, CIFAR-10 Batch 3:  Loss: 3.599747287807986e-05\n",
      "Validation accuracy: 0.6771999001502991\n",
      "Epoch 50, CIFAR-10 Batch 4:  Loss: 0.0009857075056061149\n",
      "Validation accuracy: 0.6805998682975769\n",
      "Epoch 50, CIFAR-10 Batch 5:  Loss: 0.00016814448463264853\n",
      "Validation accuracy: 0.6609998941421509\n"
     ]
    }
   ],
   "source": [
    "\"\"\"\n",
    "DON'T MODIFY ANYTHING IN THIS CELL\n",
    "\"\"\"\n",
    "save_model_path = './image_classification'\n",
    "\n",
    "print('Training...')\n",
    "with tf.Session() as sess:\n",
    "    # Initializing the variables\n",
    "    sess.run(tf.global_variables_initializer())\n",
    "    \n",
    "    # Training cycle\n",
    "    for epoch in range(epochs):\n",
    "        # Loop over all batches\n",
    "        n_batches = 5\n",
    "        for batch_i in range(1, n_batches + 1):\n",
    "            for batch_features, batch_labels in helper.load_preprocess_training_batch(batch_i, batch_size):\n",
    "                train_neural_network(sess, optimizer, keep_probability, batch_features, batch_labels)\n",
    "            print('Epoch {:>2}, CIFAR-10 Batch {}:  '.format(epoch + 1, batch_i), end='')\n",
    "            print_stats(sess, batch_features, batch_labels, cost, accuracy)\n",
    "            \n",
    "    # Save Model\n",
    "    saver = tf.train.Saver()\n",
    "    save_path = saver.save(sess, save_model_path)"
   ]
  },
  {
   "cell_type": "markdown",
   "metadata": {
    "deletable": true,
    "editable": true
   },
   "source": [
    "# Checkpoint\n",
    "The model has been saved to disk.\n",
    "## Test Model\n",
    "Test your model against the test dataset.  This will be your final accuracy. You should have an accuracy greater than 50%. If you don't, keep tweaking the model architecture and parameters."
   ]
  },
  {
   "cell_type": "code",
   "execution_count": 19,
   "metadata": {
    "collapsed": false,
    "deletable": true,
    "editable": true
   },
   "outputs": [
    {
     "name": "stdout",
     "output_type": "stream",
     "text": [
      "Testing Accuracy: 0.65712890625\n",
      "\n"
     ]
    },
    {
     "data": {
      "image/png": "[encoded data removed]",
      "text/plain": [
       "<matplotlib.figure.Figure at 0x7f8a785d4080>"
      ]
     },
     "metadata": {
      "image/png": {
       "height": 319,
       "width": 355
      }
     },
     "output_type": "display_data"
    }
   ],
   "source": [
    "\"\"\"\n",
    "DON'T MODIFY ANYTHING IN THIS CELL\n",
    "\"\"\"\n",
    "%matplotlib inline\n",
    "%config InlineBackend.figure_format = 'retina'\n",
    "\n",
    "import tensorflow as tf\n",
    "import pickle\n",
    "import helper\n",
    "import random\n",
    "\n",
    "# Set batch size if not already set\n",
    "try:\n",
    "    if batch_size:\n",
    "        pass\n",
    "except NameError:\n",
    "    batch_size = 64\n",
    "\n",
    "save_model_path = './image_classification'\n",
    "n_samples = 4\n",
    "top_n_predictions = 3\n",
    "\n",
    "def test_model():\n",
    "    \"\"\"\n",
    "    Test the saved model against the test dataset\n",
    "    \"\"\"\n",
    "\n",
    "    test_features, test_labels = pickle.load(open('preprocess_test.p', mode='rb'))\n",
    "    loaded_graph = tf.Graph()\n",
    "\n",
    "    with tf.Session(graph=loaded_graph) as sess:\n",
    "        # Load model\n",
    "        loader = tf.train.import_meta_graph(save_model_path + '.meta')\n",
    "        loader.restore(sess, save_model_path)\n",
    "\n",
    "        # Get Tensors from loaded model\n",
    "        loaded_x = loaded_graph.get_tensor_by_name('x:0')\n",
    "        loaded_y = loaded_graph.get_tensor_by_name('y:0')\n",
    "        loaded_keep_prob = loaded_graph.get_tensor_by_name('keep_prob:0')\n",
    "        loaded_logits = loaded_graph.get_tensor_by_name('logits:0')\n",
    "        loaded_acc = loaded_graph.get_tensor_by_name('accuracy:0')\n",
    "        \n",
    "        # Get accuracy in batches for memory limitations\n",
    "        test_batch_acc_total = 0\n",
    "        test_batch_count = 0\n",
    "        \n",
    "        for test_feature_batch, test_label_batch in helper.batch_features_labels(test_features, test_labels, batch_size):\n",
    "            test_batch_acc_total += sess.run(\n",
    "                loaded_acc,\n",
    "                feed_dict={loaded_x: test_feature_batch, loaded_y: test_label_batch, loaded_keep_prob: 1.0})\n",
    "            test_batch_count += 1\n",
    "\n",
    "        print('Testing Accuracy: {}\\n'.format(test_batch_acc_total/test_batch_count))\n",
    "\n",
    "        # Print Random Samples\n",
    "        random_test_features, random_test_labels = tuple(zip(*random.sample(list(zip(test_features, test_labels)), n_samples)))\n",
    "        random_test_predictions = sess.run(\n",
    "            tf.nn.top_k(tf.nn.softmax(loaded_logits), top_n_predictions),\n",
    "            feed_dict={loaded_x: random_test_features, loaded_y: random_test_labels, loaded_keep_prob: 1.0})\n",
    "        helper.display_image_predictions(random_test_features, random_test_labels, random_test_predictions)\n",
    "\n",
    "\n",
    "test_model()"
   ]
  },
  {
   "cell_type": "markdown",
   "metadata": {
    "deletable": true,
    "editable": true
   },
   "source": [
    "## Why 50-80% Accuracy?\n",
    "You might be wondering why you can't get an accuracy any higher. First things first, 50% isn't bad for a simple CNN.  Pure guessing would get you 10% accuracy. However, you might notice people are getting scores [well above 80%](http://rodrigob.github.io/are_we_there_yet/build/classification_datasets_results.html#43494641522d3130).  That's because we haven't taught you all there is to know about neural networks. We still need to cover a few more techniques.\n",
    "## Submitting This Project\n",
    "When submitting this project, make sure to run all the cells before saving the notebook.  Save the notebook file as \"dlnd_image_classification.ipynb\" and save it as a HTML file under \"File\" -> \"Download as\".  Include the \"helper.py\" and \"problem_unittests.py\" files in your submission."
   ]
  }
 ],
 "metadata": {
  "kernelspec": {
   "display_name": "Python 3",
   "language": "python",
   "name": "python3"
  },
  "language_info": {
   "codemirror_mode": {
    "name": "ipython",
    "version": 3
   },
   "file_extension": ".py",
   "mimetype": "text/x-python",
   "name": "python",
   "nbconvert_exporter": "python",
   "pygments_lexer": "ipython3",
   "version": "3.5.3"
  }
 },
 "nbformat": 4,
 "nbformat_minor": 1
}
